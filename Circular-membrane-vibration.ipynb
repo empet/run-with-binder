{
 "cells": [
  {
   "cell_type": "markdown",
   "metadata": {},
   "source": [
    "## Circular membrane vibrations. Plotly animation "
   ]
  },
  {
   "cell_type": "markdown",
   "metadata": {},
   "source": [
    "The study of circular membrane vibration is of interest in acoustical applications. Circular membranes are  components  of drums, microphones and other devices.\n",
    "\n",
    "The free vibrations of a circular membrane of radius $a$, are modeled by the two dimensional wave equation\n",
    "\n",
    "$$ u_{tt}=c^2\\Delta u$$\n",
    "\n",
    "expressed in polar coordinates $(r, \\theta)$:\n",
    "    $$\n",
    "    u_{tt}=c^2(u_{rr}+\\displaystyle\\frac{1}{r}u_r+\\displaystyle\\frac{1}{r^2}u_{\\theta\\theta}),\n",
    "    $$ \n",
    "    with the boundary condition\n",
    "        $$u(r=a, \\theta, t)=0, $$\n",
    " that imposes zero membrane deflection on the circular boundary.  \n",
    "\n",
    "Usually to get the analytical solution $u(r, \\theta, t)$, we should\n",
    " set the initial displacement, $u(r, \\theta,0)=d(r,\\theta)$, and the initial velocity, $u_t(r,\\theta,0)=v(r, \\theta)$ of the membrane. \n",
    "But our goal here is  to derive  and animate  the vibrational modes (eigenfunctions) of\n",
    "the circular membrane, and in this case these initial conditions are not involved."
   ]
  },
  {
   "cell_type": "markdown",
   "metadata": {},
   "source": [
    "Using the method of separation of variables, i.e. looking for a solution of the form $u(r,\\theta, t)=R(r)f(\\theta)T(t)$, we get  the vibrational modes (eigenfunctions):\n",
    "    $$ u_{nm}(r, \\theta, t)=J_n(r\\cdot z_{nm}/a)\\cos(n\\theta)\\cos(c\\cdot z_{mn}t/a),$$\n",
    "where    $J_n$ is the Bessel function of the first kind and integer order, $n\\geq 0$, and $z_{nm}$ is the $m^{th}$ positive zero\n",
    "of the function $J_n$."
   ]
  },
  {
   "cell_type": "markdown",
   "metadata": {},
   "source": [
    "Below are illustrated the graphs of the Bessel functions $J_0, J_1, J_2$, colored respectively with red, blue and green,  as well as the first three positive zeros, $z_{11}, z_{12}, z_{13}$, of the function $J_1(x)$.\n"
   ]
  },
  {
   "cell_type": "code",
   "execution_count": null,
   "metadata": {},
   "outputs": [],
   "source": [
    "from IPython.display import SVG\n",
    "SVG(filename=\"Bessel.svg\")"
   ]
  },
  {
   "cell_type": "markdown",
   "metadata": {},
   "source": [
    "In a vibrating membrane  the points  $(r, \\theta)$,  that don't move, i.e. $u(r,\\theta, t)=u(r, \\theta, 0)$,\n",
    "for any $t>0$, are called nodes. A vibrating circular membrane can exhibit diametrical nodes, respectively circular nodes. "
   ]
  },
  {
   "cell_type": "markdown",
   "metadata": {},
   "source": [
    "The integers $n=0,1,2, \\ldots, m=1,2,\\ldots$ in the eigenfunction notation, $u_{nm}$, defined above, give \n",
    "the number of diametrical nodes, respectively circular nodes, i.e. the number of diameters, respectively circles in the disk of radius $a$ that do not move during the vibration. By the boundary condition, the membrane boundary is a node line. \n",
    "\n",
    "\n",
    "For example $u_{12}(r, \\theta, t)$ has one diameter and two circles consisting entirely in nodes. "
   ]
  },
  {
   "cell_type": "markdown",
   "metadata": {},
   "source": [
    "Across the WEB there are a lot of animations of vibrational modes of the circular membrane, including the \n",
    "[Wikipedia page](https://en.wikipedia.org/wiki/Vibrations_of_a_circular_membrane), \n",
    "but usually they do not point out the node lines for each illustrated mode.\n",
    "\n",
    "Here we define a function to animate the modes $u_{nm}(r,\\theta, t)$, via Python Plotly animation, and plot each surface\n",
    "$z=u_{nm}(r, \\theta, t)$ (where   t is running through the   points in a grid over the animation time interval)  with a  diverging colorscale.\n",
    " So  we  illlustrate  both the membrane vibration  and its node lines, as lines colored with the central color of the diverging colormap."
   ]
  },
  {
   "cell_type": "code",
   "execution_count": null,
   "metadata": {},
   "outputs": [],
   "source": [
    "from plotly.offline import download_plotlyjs, init_notebook_mode,  iplot, plot\n",
    "init_notebook_mode(connected=True)\n",
    "import plotly.graph_objects as go"
   ]
  },
  {
   "cell_type": "code",
   "execution_count": null,
   "metadata": {},
   "outputs": [],
   "source": [
    "import numpy as np\n",
    "from scipy.special import jn, jn_zeros  #Bessel functions of the first kind,  and their zeros"
   ]
  },
  {
   "cell_type": "markdown",
   "metadata": {},
   "source": [
    "`jn(n, x)` evaluates  $J_n(x)$."
   ]
  },
  {
   "cell_type": "markdown",
   "metadata": {},
   "source": [
    "The first `nz` positive zeros of the Bessel function $J_n$ are returned by the function `scipy.special.jn_zeros(n,nz)`:"
   ]
  },
  {
   "cell_type": "code",
   "execution_count": null,
   "metadata": {},
   "outputs": [],
   "source": [
    "n=1\n",
    "nz=3\n",
    "\n",
    "jn_zeros(n,nz)"
   ]
  },
  {
   "cell_type": "code",
   "execution_count": null,
   "metadata": {},
   "outputs": [],
   "source": [
    "def vibrate(membrane_radius=1.0, n=0, m=1, N=50, pl_colorscale='RdBu', reverse=False):\n",
    "    \n",
    "    # n is the index of the Bessel function, J_n, n=0,1,2, ...; it gives the number of diametric nodes\n",
    "    # m points out the m^th positive zero of the the Bessel function J_n, m=1, 2, 3, ...\n",
    "    # N is the number of points in a grid along the radial and circular direction\n",
    "    r = np.linspace(0, membrane_radius, N)\n",
    "    theta = np.linspace(0, 2*np.pi, N)\n",
    "    r, theta = np.meshgrid(r, theta)\n",
    "\n",
    "    x = r*np.cos(theta)\n",
    "    y = r*np.sin(theta)\n",
    "\n",
    "    time = np.linspace(0, np.pi, N)\n",
    "    frames = []\n",
    "    zmin = 100\n",
    "    zmax = 0\n",
    "   \n",
    "    bz_nm=jn_zeros(n,m)[-1] #the m^th positive zero of J_n\n",
    "\n",
    "    for t in time:\n",
    "        # z=u_nm(r, theta, t):\n",
    "        z = jn(n, bz_nm*r/membrane_radius)*np.cos(n*theta)*np.cos(t* bz_nm/membrane_radius) \n",
    "        zmin = min([zmin, z.min()])\n",
    "        zmax = max([zmax, z.max()])\n",
    "        frames.append(go.Frame(data= [dict(type='surface',\n",
    "                                       z= z)],  \n",
    "                           )  \n",
    "                     )\n",
    "    fig = go.Figure(go.Surface( \n",
    "               x=x, y=y, \n",
    "               z=np.zeros(x.shape),# the initial position of the mebrane is 0 at each point\n",
    "               colorscale=pl_colorscale,\n",
    "               reversescale=reverse,\n",
    "               cmin=zmin, \n",
    "               cmax=zmax,\n",
    "               colorbar=dict(thickness=23, \n",
    "                             len=0.5)))\n",
    "    fig.update(frames=frames)\n",
    "    title = f'Vibrational mode ({m}, {n})<br>with {n} diametric and {m} circular node lines'\n",
    "\n",
    "    return fig,  title, zmin, zmax       "
   ]
  },
  {
   "cell_type": "markdown",
   "metadata": {},
   "source": [
    "Let us animate the mode (1,2). To test any other mode just change the values for n and m in the call of the vibrate function, below:"
   ]
  },
  {
   "cell_type": "code",
   "execution_count": null,
   "metadata": {},
   "outputs": [],
   "source": [
    "pride= [[0.0, '#160d27'],\n",
    " [0.1, '#2a3472'],\n",
    " [0.2, '#24687e'],\n",
    " [0.3, '#57927d'],\n",
    " [0.4, '#9aba6b'],\n",
    " [0.5, '#f8dd28'],\n",
    " [0.6, '#f1940d'],\n",
    " [0.7, '#d5532b'],\n",
    " [0.8, '#a71b47'],\n",
    " [0.9, '#650650'],\n",
    " [1.0, '#1f0a1a']]"
   ]
  },
  {
   "cell_type": "code",
   "execution_count": null,
   "metadata": {},
   "outputs": [],
   "source": [
    "fig,  title, zmin, zmax = vibrate(n=1, m=2, pl_colorscale=pride)"
   ]
  },
  {
   "cell_type": "markdown",
   "metadata": {},
   "source": [
    "Set the plot layout:"
   ]
  },
  {
   "cell_type": "code",
   "execution_count": null,
   "metadata": {},
   "outputs": [],
   "source": [
    "fig.update_layout(\n",
    "              title_text=title, title_x=0.5,\n",
    "              width=700,\n",
    "              height=700,\n",
    "              scene=dict(camera = dict(eye=dict(x=1, y=1.25, z=0.6)),\n",
    "                         #aspectmode='data',\n",
    "                         aspectratio=dict(x=1, y=1, z=0.35),\n",
    "                         xaxis_visible=False,\n",
    "                         yaxis_visible=False, \n",
    "                         zaxis_visible=False,\n",
    "                         zaxis_range=[zmin, zmax]),\n",
    "                        \n",
    "              updatemenus=[dict(type='buttons', \n",
    "                                y=0.9,\n",
    "                                x=1.275,\n",
    "                                xanchor='right',\n",
    "                                yanchor='top',\n",
    "                                pad=dict(t=0, r=10),\n",
    "                                buttons=[dict(label='Play',\n",
    "                                               method='animate',\n",
    "                                               args=[None, \n",
    "                                                     dict(frame=dict(duration=100, \n",
    "                                                                     redraw=True),\n",
    "                                                          transition=dict(duration=0),\n",
    "                                                          fromcurrent=True,\n",
    "                                                          mode='immediate')])])]);\n"
   ]
  },
  {
   "cell_type": "code",
   "execution_count": null,
   "metadata": {},
   "outputs": [],
   "source": [
    "iplot(fig)"
   ]
  },
  {
   "cell_type": "markdown",
   "metadata": {
    "collapsed": true
   },
   "source": [
    "Rotating the  surface to place its circular range in the vertical plane, and looking at  its heatmap, we can distinguish better the node lines."
   ]
  },
  {
   "cell_type": "code",
   "execution_count": null,
   "metadata": {},
   "outputs": [],
   "source": []
  }
 ],
 "metadata": {
  "@webio": {
   "lastCommId": null,
   "lastKernelId": null
  },
  "kernelspec": {
   "display_name": "Python 3",
   "language": "python",
   "name": "python3"
  },
  "language_info": {
   "codemirror_mode": {
    "name": "ipython",
    "version": 3
   },
   "file_extension": ".py",
   "mimetype": "text/x-python",
   "name": "python",
   "nbconvert_exporter": "python",
   "pygments_lexer": "ipython3",
   "version": "3.8.6"
  }
 },
 "nbformat": 4,
 "nbformat_minor": 2
}
